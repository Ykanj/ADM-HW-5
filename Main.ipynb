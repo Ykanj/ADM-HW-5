{
 "cells": [
  {
   "cell_type": "markdown",
   "metadata": {},
   "source": [
    "## Homework 5 - The eternal significance of publications and citations!\n",
    "#### Group 18: Yousef Kanj (2113258), Simone Zagaria (2145389), Matteo Pazzini (1868953), Sai Swaroop Chittoor (1916247) "
   ]
  },
  {
   "cell_type": "markdown",
   "metadata": {},
   "source": [
    "_____"
   ]
  },
  {
   "cell_type": "code",
   "execution_count": 2,
   "metadata": {},
   "outputs": [],
   "source": [
    "import ijson\n",
    "import numpy as np\n",
    "from tqdm import tqdm\n",
    "import pandas as pd\n",
    "import os\n",
    "import re "
   ]
  },
  {
   "cell_type": "markdown",
   "metadata": {},
   "source": [
    "For each 150000 lines read from the JSON, we converted them to a pandas dataframe, sorted the dataframe for the top 10k by n_citations, dropped the rest of the entries, saved as a csv file and reset variables to clear memory. Between the 4.8 million entries processed, around 20 gave an error while reading them this was managed with a try except statement considering they're a negligible amount."
   ]
  },
  {
   "cell_type": "code",
   "execution_count": 5,
   "metadata": {},
   "outputs": [
    {
     "name": "stderr",
     "output_type": "stream",
     "text": [
      "2428it [00:00, 12133.94it/s]"
     ]
    },
    {
     "name": "stdout",
     "output_type": "stream",
     "text": [
      "1\n",
      "6\n",
      "13\n",
      "66\n",
      "113\n",
      "129\n",
      "215\n",
      "1709\n"
     ]
    },
    {
     "name": "stderr",
     "output_type": "stream",
     "text": [
      "26848it [00:01, 13686.54it/s]"
     ]
    },
    {
     "name": "stdout",
     "output_type": "stream",
     "text": [
      "3450\n"
     ]
    },
    {
     "name": "stderr",
     "output_type": "stream",
     "text": [
      "283848it [00:36, 5357.14it/s] "
     ]
    },
    {
     "name": "stdout",
     "output_type": "stream",
     "text": [
      "4638\n"
     ]
    },
    {
     "name": "stderr",
     "output_type": "stream",
     "text": [
      "349366it [00:48, 10494.30it/s]"
     ]
    },
    {
     "name": "stdout",
     "output_type": "stream",
     "text": [
      "13365\n"
     ]
    },
    {
     "name": "stderr",
     "output_type": "stream",
     "text": [
      "598008it [01:32, 9536.85it/s] "
     ]
    },
    {
     "name": "stdout",
     "output_type": "stream",
     "text": [
      "14257\n"
     ]
    },
    {
     "name": "stderr",
     "output_type": "stream",
     "text": [
      "664361it [01:48, 9219.95it/s]"
     ]
    },
    {
     "name": "stdout",
     "output_type": "stream",
     "text": [
      "14972\n"
     ]
    },
    {
     "name": "stderr",
     "output_type": "stream",
     "text": [
      "689022it [01:54, 1031.55it/s]"
     ]
    },
    {
     "name": "stdout",
     "output_type": "stream",
     "text": [
      "25855\n"
     ]
    },
    {
     "name": "stderr",
     "output_type": "stream",
     "text": [
      "1132865it [03:22, 9378.31it/s]"
     ]
    },
    {
     "name": "stdout",
     "output_type": "stream",
     "text": [
      "32053\n"
     ]
    },
    {
     "name": "stderr",
     "output_type": "stream",
     "text": [
      "2938613it [09:58, 8383.62it/s]"
     ]
    },
    {
     "name": "stdout",
     "output_type": "stream",
     "text": [
      "35541\n"
     ]
    },
    {
     "name": "stderr",
     "output_type": "stream",
     "text": [
      "4073542it [14:10, 8870.38it/s] "
     ]
    },
    {
     "name": "stdout",
     "output_type": "stream",
     "text": [
      "4072519 'authors'\n",
      "4073609 'authors'\n",
      "4074066 'authors'\n"
     ]
    },
    {
     "name": "stderr",
     "output_type": "stream",
     "text": [
      "4076205it [14:10, 8529.68it/s]"
     ]
    },
    {
     "name": "stdout",
     "output_type": "stream",
     "text": [
      "4075098 'authors'\n",
      "4075506 'authors'\n",
      "4075960 'authors'\n",
      "4075982 'authors'\n",
      "4076003 'authors'\n",
      "4076007 'authors'\n",
      "4076545 'authors'\n",
      "4076556 'authors'\n"
     ]
    },
    {
     "name": "stderr",
     "output_type": "stream",
     "text": [
      "4078839it [14:11, 8225.61it/s]"
     ]
    },
    {
     "name": "stdout",
     "output_type": "stream",
     "text": [
      "4077547 'authors'\n",
      "4078600 'authors'\n",
      "4079011 'authors'\n"
     ]
    },
    {
     "name": "stderr",
     "output_type": "stream",
     "text": [
      "4080477it [14:11, 7956.90it/s]"
     ]
    },
    {
     "name": "stdout",
     "output_type": "stream",
     "text": [
      "4079482 'authors'\n",
      "4079499 'authors'\n"
     ]
    },
    {
     "name": "stderr",
     "output_type": "stream",
     "text": [
      "4084023it [14:11, 8693.09it/s]"
     ]
    },
    {
     "name": "stdout",
     "output_type": "stream",
     "text": [
      "4082186 'authors'\n",
      "4082218 'authors'\n"
     ]
    },
    {
     "name": "stderr",
     "output_type": "stream",
     "text": [
      "4093646it [14:12, 10276.93it/s]"
     ]
    },
    {
     "name": "stdout",
     "output_type": "stream",
     "text": [
      "42437\n"
     ]
    },
    {
     "name": "stderr",
     "output_type": "stream",
     "text": [
      "4632501it [15:54, 9553.97it/s] "
     ]
    },
    {
     "name": "stdout",
     "output_type": "stream",
     "text": [
      "44175\n"
     ]
    },
    {
     "name": "stderr",
     "output_type": "stream",
     "text": [
      "4698039it [16:09, 6993.93it/s] "
     ]
    },
    {
     "name": "stdout",
     "output_type": "stream",
     "text": [
      "48327\n"
     ]
    },
    {
     "name": "stderr",
     "output_type": "stream",
     "text": [
      "4894081it [16:50, 4842.29it/s] \n"
     ]
    },
    {
     "data": {
      "text/html": [
       "<div>\n",
       "<style scoped>\n",
       "    .dataframe tbody tr th:only-of-type {\n",
       "        vertical-align: middle;\n",
       "    }\n",
       "\n",
       "    .dataframe tbody tr th {\n",
       "        vertical-align: top;\n",
       "    }\n",
       "\n",
       "    .dataframe thead th {\n",
       "        text-align: right;\n",
       "    }\n",
       "</style>\n",
       "<table border=\"1\" class=\"dataframe\">\n",
       "  <thead>\n",
       "    <tr style=\"text-align: right;\">\n",
       "      <th></th>\n",
       "      <th>id</th>\n",
       "      <th>title</th>\n",
       "      <th>authors</th>\n",
       "      <th>year</th>\n",
       "      <th>n_citation</th>\n",
       "      <th>doc_type</th>\n",
       "      <th>references</th>\n",
       "      <th>doi</th>\n",
       "      <th>indexed_abstract</th>\n",
       "      <th>fos</th>\n",
       "      <th>venue</th>\n",
       "    </tr>\n",
       "  </thead>\n",
       "  <tbody>\n",
       "    <tr>\n",
       "      <th>74650</th>\n",
       "      <td>301824129</td>\n",
       "      <td>Introduction to Algorithms, Second Edition</td>\n",
       "      <td>[{'name': 'TH Cormen', 'id': 40955404}, {'name...</td>\n",
       "      <td>2001</td>\n",
       "      <td>5155</td>\n",
       "      <td>Book</td>\n",
       "      <td>NaN</td>\n",
       "      <td>https://doi.org/</td>\n",
       "      <td>NaN</td>\n",
       "      <td>[{'name': 'Computer science', 'w': 0.47071}, {...</td>\n",
       "      <td>NaN</td>\n",
       "    </tr>\n",
       "    <tr>\n",
       "      <th>30744</th>\n",
       "      <td>2611515161</td>\n",
       "      <td>Distributed Algorithms</td>\n",
       "      <td>[{'name': 'Nancy A. Lynch', 'id': 2180706138}]</td>\n",
       "      <td>1996</td>\n",
       "      <td>3920</td>\n",
       "      <td>Book</td>\n",
       "      <td>[138290785, 581672660, 1498909462, 1507757695,...</td>\n",
       "      <td>https://doi.org/</td>\n",
       "      <td>{'IndexLength': 341, 'InvertedIndex': {'design...</td>\n",
       "      <td>[{'name': 'Consensus', 'w': 0.57338}, {'name':...</td>\n",
       "      <td>NaN</td>\n",
       "    </tr>\n",
       "    <tr>\n",
       "      <th>30600</th>\n",
       "      <td>2611243847</td>\n",
       "      <td>Planning Algorithms</td>\n",
       "      <td>[{'name': 'Steven M. LaValle', 'id': 399368623}]</td>\n",
       "      <td>2006</td>\n",
       "      <td>3630</td>\n",
       "      <td>Book</td>\n",
       "      <td>[1527367709, 2022344379, 2121859020, 214483615...</td>\n",
       "      <td>https://doi.org/</td>\n",
       "      <td>NaN</td>\n",
       "      <td>[{'name': 'Kinodynamic planning', 'w': 0.58379...</td>\n",
       "      <td>NaN</td>\n",
       "    </tr>\n",
       "    <tr>\n",
       "      <th>41316</th>\n",
       "      <td>2751199251</td>\n",
       "      <td>Fundamentals of Database Systems</td>\n",
       "      <td>[{'name': 'Ramez A. Elmasri', 'org': 'Univ. of...</td>\n",
       "      <td>1989</td>\n",
       "      <td>3194</td>\n",
       "      <td>Book</td>\n",
       "      <td>NaN</td>\n",
       "      <td>https://doi.org/</td>\n",
       "      <td>{'IndexLength': 209, 'InvertedIndex': {'modeli...</td>\n",
       "      <td>[{'name': 'Data science', 'w': 0.46606}, {'nam...</td>\n",
       "      <td>NaN</td>\n",
       "    </tr>\n",
       "    <tr>\n",
       "      <th>86509</th>\n",
       "      <td>6908809</td>\n",
       "      <td>ADADELTA: An Adaptive Learning Rate Method</td>\n",
       "      <td>[{'name': 'Matthew D. Zeiler', 'id': 2087742686}]</td>\n",
       "      <td>2012</td>\n",
       "      <td>2376</td>\n",
       "      <td>Repository</td>\n",
       "      <td>[1994616650, 2147768505, 2168231600, 2950351588]</td>\n",
       "      <td>https://doi.org/</td>\n",
       "      <td>{'IndexLength': 92, 'InvertedIndex': {'voice':...</td>\n",
       "      <td>[{'name': 'Online machine learning', 'w': 0.63...</td>\n",
       "      <td>{'raw': 'arXiv: Learning', 'id': 2597173376, '...</td>\n",
       "    </tr>\n",
       "    <tr>\n",
       "      <th>30770</th>\n",
       "      <td>2611598995</td>\n",
       "      <td>The C Programming Language</td>\n",
       "      <td>[{'name': 'Brian W. Kernighan', 'org': 'AT &amp; T...</td>\n",
       "      <td>1978</td>\n",
       "      <td>2247</td>\n",
       "      <td>Book</td>\n",
       "      <td>[2162178863]</td>\n",
       "      <td>https://doi.org/</td>\n",
       "      <td>{'IndexLength': 134, 'InvertedIndex': {'been':...</td>\n",
       "      <td>[{'name': 'Fifth-generation programming langua...</td>\n",
       "      <td>NaN</td>\n",
       "    </tr>\n",
       "    <tr>\n",
       "      <th>31127</th>\n",
       "      <td>2612445135</td>\n",
       "      <td>MobileNets: Efficient Convolutional Neural Net...</td>\n",
       "      <td>[{'name': 'Andrew G. Howard', 'id': 2612173839...</td>\n",
       "      <td>2017</td>\n",
       "      <td>2196</td>\n",
       "      <td>Repository</td>\n",
       "      <td>[1650736245, 1686810756, 1821462560, 190531205...</td>\n",
       "      <td>https://doi.org/</td>\n",
       "      <td>{'IndexLength': 118, 'InvertedIndex': {'called...</td>\n",
       "      <td>[{'name': 'Object detection', 'w': 0.53801}, {...</td>\n",
       "      <td>{'raw': 'arXiv: Computer Vision and Pattern Re...</td>\n",
       "    </tr>\n",
       "    <tr>\n",
       "      <th>30866</th>\n",
       "      <td>2611894836</td>\n",
       "      <td>Ontology Matching</td>\n",
       "      <td>[{'name': 'Jérôme Euzenat', 'id': 1501542852},...</td>\n",
       "      <td>2007</td>\n",
       "      <td>2066</td>\n",
       "      <td>Book</td>\n",
       "      <td>NaN</td>\n",
       "      <td>https://doi.org/</td>\n",
       "      <td>{'IndexLength': 317, 'InvertedIndex': {'been':...</td>\n",
       "      <td>[{'name': 'Ontology (information science)', 'w...</td>\n",
       "      <td>NaN</td>\n",
       "    </tr>\n",
       "    <tr>\n",
       "      <th>38764</th>\n",
       "      <td>2739999456</td>\n",
       "      <td>UniProt: A hub for protein information</td>\n",
       "      <td>[{'name': 'A Bateman', 'id': 2120643991}, {'na...</td>\n",
       "      <td>2015</td>\n",
       "      <td>2003</td>\n",
       "      <td></td>\n",
       "      <td>[2076048958, 2107644675, 2107785922, 210872349...</td>\n",
       "      <td>https://doi.org/</td>\n",
       "      <td>{'IndexLength': 166, 'InvertedIndex': {'been':...</td>\n",
       "      <td>[{'name': 'World Wide Web', 'w': 0.38444}, {'n...</td>\n",
       "      <td>{'raw': 'Nucleic Acids Research , 43  (D1)   D...</td>\n",
       "    </tr>\n",
       "    <tr>\n",
       "      <th>32072</th>\n",
       "      <td>2615953416</td>\n",
       "      <td>Stochastic Simulation</td>\n",
       "      <td>[{'name': 'Brian D. Ripley', 'org': 'Universit...</td>\n",
       "      <td>1987</td>\n",
       "      <td>1721</td>\n",
       "      <td>Book</td>\n",
       "      <td>[1967986582, 1975850564, 1980005324, 198802234...</td>\n",
       "      <td>https://doi.org/</td>\n",
       "      <td>NaN</td>\n",
       "      <td>[{'name': 'Stochastic simulation', 'w': 0.6382...</td>\n",
       "      <td>NaN</td>\n",
       "    </tr>\n",
       "  </tbody>\n",
       "</table>\n",
       "</div>"
      ],
      "text/plain": [
       "               id                                              title  \\\n",
       "74650   301824129         Introduction to Algorithms, Second Edition   \n",
       "30744  2611515161                             Distributed Algorithms   \n",
       "30600  2611243847                                Planning Algorithms   \n",
       "41316  2751199251                   Fundamentals of Database Systems   \n",
       "86509     6908809         ADADELTA: An Adaptive Learning Rate Method   \n",
       "30770  2611598995                         The C Programming Language   \n",
       "31127  2612445135  MobileNets: Efficient Convolutional Neural Net...   \n",
       "30866  2611894836                                  Ontology Matching   \n",
       "38764  2739999456             UniProt: A hub for protein information   \n",
       "32072  2615953416                              Stochastic Simulation   \n",
       "\n",
       "                                                 authors  year  n_citation  \\\n",
       "74650  [{'name': 'TH Cormen', 'id': 40955404}, {'name...  2001        5155   \n",
       "30744     [{'name': 'Nancy A. Lynch', 'id': 2180706138}]  1996        3920   \n",
       "30600   [{'name': 'Steven M. LaValle', 'id': 399368623}]  2006        3630   \n",
       "41316  [{'name': 'Ramez A. Elmasri', 'org': 'Univ. of...  1989        3194   \n",
       "86509  [{'name': 'Matthew D. Zeiler', 'id': 2087742686}]  2012        2376   \n",
       "30770  [{'name': 'Brian W. Kernighan', 'org': 'AT & T...  1978        2247   \n",
       "31127  [{'name': 'Andrew G. Howard', 'id': 2612173839...  2017        2196   \n",
       "30866  [{'name': 'Jérôme Euzenat', 'id': 1501542852},...  2007        2066   \n",
       "38764  [{'name': 'A Bateman', 'id': 2120643991}, {'na...  2015        2003   \n",
       "32072  [{'name': 'Brian D. Ripley', 'org': 'Universit...  1987        1721   \n",
       "\n",
       "         doc_type                                         references  \\\n",
       "74650        Book                                                NaN   \n",
       "30744        Book  [138290785, 581672660, 1498909462, 1507757695,...   \n",
       "30600        Book  [1527367709, 2022344379, 2121859020, 214483615...   \n",
       "41316        Book                                                NaN   \n",
       "86509  Repository   [1994616650, 2147768505, 2168231600, 2950351588]   \n",
       "30770        Book                                       [2162178863]   \n",
       "31127  Repository  [1650736245, 1686810756, 1821462560, 190531205...   \n",
       "30866        Book                                                NaN   \n",
       "38764              [2076048958, 2107644675, 2107785922, 210872349...   \n",
       "32072        Book  [1967986582, 1975850564, 1980005324, 198802234...   \n",
       "\n",
       "                    doi                                   indexed_abstract  \\\n",
       "74650  https://doi.org/                                                NaN   \n",
       "30744  https://doi.org/  {'IndexLength': 341, 'InvertedIndex': {'design...   \n",
       "30600  https://doi.org/                                                NaN   \n",
       "41316  https://doi.org/  {'IndexLength': 209, 'InvertedIndex': {'modeli...   \n",
       "86509  https://doi.org/  {'IndexLength': 92, 'InvertedIndex': {'voice':...   \n",
       "30770  https://doi.org/  {'IndexLength': 134, 'InvertedIndex': {'been':...   \n",
       "31127  https://doi.org/  {'IndexLength': 118, 'InvertedIndex': {'called...   \n",
       "30866  https://doi.org/  {'IndexLength': 317, 'InvertedIndex': {'been':...   \n",
       "38764  https://doi.org/  {'IndexLength': 166, 'InvertedIndex': {'been':...   \n",
       "32072  https://doi.org/                                                NaN   \n",
       "\n",
       "                                                     fos  \\\n",
       "74650  [{'name': 'Computer science', 'w': 0.47071}, {...   \n",
       "30744  [{'name': 'Consensus', 'w': 0.57338}, {'name':...   \n",
       "30600  [{'name': 'Kinodynamic planning', 'w': 0.58379...   \n",
       "41316  [{'name': 'Data science', 'w': 0.46606}, {'nam...   \n",
       "86509  [{'name': 'Online machine learning', 'w': 0.63...   \n",
       "30770  [{'name': 'Fifth-generation programming langua...   \n",
       "31127  [{'name': 'Object detection', 'w': 0.53801}, {...   \n",
       "30866  [{'name': 'Ontology (information science)', 'w...   \n",
       "38764  [{'name': 'World Wide Web', 'w': 0.38444}, {'n...   \n",
       "32072  [{'name': 'Stochastic simulation', 'w': 0.6382...   \n",
       "\n",
       "                                                   venue  \n",
       "74650                                                NaN  \n",
       "30744                                                NaN  \n",
       "30600                                                NaN  \n",
       "41316                                                NaN  \n",
       "86509  {'raw': 'arXiv: Learning', 'id': 2597173376, '...  \n",
       "30770                                                NaN  \n",
       "31127  {'raw': 'arXiv: Computer Vision and Pattern Re...  \n",
       "30866                                                NaN  \n",
       "38764  {'raw': 'Nucleic Acids Research , 43  (D1)   D...  \n",
       "32072                                                NaN  "
      ]
     },
     "execution_count": 5,
     "metadata": {},
     "output_type": "execute_result"
    }
   ],
   "source": [
    "papers = []\n",
    "x=0\n",
    "maxed = 0\n",
    "with open('dblp.v12.json', \"rb\") as file: \n",
    "    for i, element in tqdm(enumerate(ijson.items(file, \"item\"))):\n",
    "        try:\n",
    "            paper = {}\n",
    "\n",
    "            paper['id'] = element['id']\n",
    "\n",
    "            paper['title'] = element['title']\n",
    "\n",
    "            paper['authors'] = element['authors']\n",
    "\n",
    "            paper['year'] = element.get('year', np.nan)\n",
    "\n",
    "            paper['n_citation'] = int(element.get('n_citation', None)) \n",
    "            \n",
    "            paper['doc_type'] = element.get('doc_type', np.nan)\n",
    "\n",
    "            paper['references'] = element.get('references', np.nan)\n",
    "\n",
    "            paper['doi'] = f\"https://doi.org/{element['doi']}\" if 'doi' in element else np.nan\n",
    "\n",
    "            paper['indexed_abstract'] = element.get('indexed_abstract', np.nan)\n",
    "\n",
    "            paper['fos'] = element.get('fos', np.nan)\n",
    "\n",
    "            paper['venue'] = element.get('venue', np.nan)\n",
    "\n",
    "            papers.append(paper)\n",
    "\n",
    "            if int(element.get('n_citation', None)) > maxed:\n",
    "                maxed = int(element.get('n_citation', None))\n",
    "                print(maxed)\n",
    "\n",
    "        except Exception as error:\n",
    "            print(i, error)\n",
    "\n",
    "        if i % 150000 == 0 and i != 0:\n",
    "            x+=1\n",
    "            df = pd.DataFrame(papers)\n",
    "            df = df.sort_values(by=\"n_citation\", ascending= False)\n",
    "            df = df[:10000]\n",
    "            path = r\"DFs\\chunk \" + str(x) + \".csv\"\n",
    "            df.to_csv(path)\n",
    "            papers = []\n",
    "\n",
    "path = r\"DFs\\chunk.csv\"\n",
    "df = pd.DataFrame(papers)\n",
    "df = df.sort_values(by=\"n_citation\", ascending= False)\n",
    "df = df[:10000]\n",
    "df.to_csv(path)\n",
    "df.head(10)"
   ]
  },
  {
   "cell_type": "markdown",
   "metadata": {},
   "source": [
    "These 33 folders of the top 10k per chunk were then concatenated together, sorted again for the top 10k between all, and the rest was dropped. From there we needed to proceed with data cleaning and correcting the data types."
   ]
  },
  {
   "cell_type": "code",
   "execution_count": 6,
   "metadata": {},
   "outputs": [
    {
     "name": "stderr",
     "output_type": "stream",
     "text": [
      "100%|██████████| 33/33 [00:11<00:00,  2.86it/s]\n"
     ]
    },
    {
     "data": {
      "text/plain": [
       "(330000, 12)"
      ]
     },
     "execution_count": 6,
     "metadata": {},
     "output_type": "execute_result"
    }
   ],
   "source": [
    "folder_path = r'C:\\Users\\youse\\Desktop\\GitHub\\ADM-HW-5\\DFs' \n",
    "\n",
    "dataframes = []\n",
    "\n",
    "for i in tqdm(range(33)):  \n",
    "    file_name = f\"chunk {i}.csv\"  if i > 0 else \"chunk.csv\"\n",
    "    file_path = os.path.join(folder_path, file_name)\n",
    "\n",
    "    df = pd.read_csv(file_path)\n",
    "    dataframes.append(df)\n",
    "\n",
    "concatenated_df = pd.concat(dataframes, ignore_index=True)\n",
    "concatenated_df.shape"
   ]
  },
  {
   "cell_type": "code",
   "execution_count": 10,
   "metadata": {},
   "outputs": [],
   "source": [
    "def authors_to_dict(input_string): # This function converts the authors column to a clean dictionary with ID as key and name as value\n",
    "    pattern = r\"'name':\\s*'([^']+)'.*?'id':\\s*(\\d+)(?:,.*?|})\"\n",
    "    matches = re.findall(pattern, input_string)\n",
    "\n",
    "    result_dict = {int(id_): name for name, id_ in matches}\n",
    "\n",
    "    return result_dict\n",
    "concatenated_df = concatenated_df.sort_values(by=\"n_citation\", ascending= False, ignore_index= True)\n",
    "concatenated_df = concatenated_df[:10000]\n",
    "concatenated_df = concatenated_df.drop([\"Unnamed: 0\", \"doc_type\", \"doi\", \"venue\",\"fos\",\"indexed_abstract\"], axis = 1)\n",
    "concatenated_df[\"authors\"] = concatenated_df[\"authors\"].apply(authors_to_dict)\n",
    "concatenated_df[\"references\"] = concatenated_df[\"references\"].apply(lambda x: list(map(int, x.strip(\"[]\").split(\", \"))) if type(x) != float else x)"
   ]
  },
  {
   "cell_type": "code",
   "execution_count": 12,
   "metadata": {},
   "outputs": [
    {
     "data": {
      "text/html": [
       "<div>\n",
       "<style scoped>\n",
       "    .dataframe tbody tr th:only-of-type {\n",
       "        vertical-align: middle;\n",
       "    }\n",
       "\n",
       "    .dataframe tbody tr th {\n",
       "        vertical-align: top;\n",
       "    }\n",
       "\n",
       "    .dataframe thead th {\n",
       "        text-align: right;\n",
       "    }\n",
       "</style>\n",
       "<table border=\"1\" class=\"dataframe\">\n",
       "  <thead>\n",
       "    <tr style=\"text-align: right;\">\n",
       "      <th></th>\n",
       "      <th>id</th>\n",
       "      <th>title</th>\n",
       "      <th>authors</th>\n",
       "      <th>year</th>\n",
       "      <th>n_citation</th>\n",
       "      <th>references</th>\n",
       "    </tr>\n",
       "  </thead>\n",
       "  <tbody>\n",
       "    <tr>\n",
       "      <th>0</th>\n",
       "      <td>2041404167</td>\n",
       "      <td>The Mathematical Theory of Communication</td>\n",
       "      <td>{2247248564: 'C. E. Shannon'}</td>\n",
       "      <td>1949</td>\n",
       "      <td>48327</td>\n",
       "      <td>NaN</td>\n",
       "    </tr>\n",
       "    <tr>\n",
       "      <th>1</th>\n",
       "      <td>1639032689</td>\n",
       "      <td>Genetic algorithms in search, optimization, an...</td>\n",
       "      <td>{2102678951: 'David E. Goldberg'}</td>\n",
       "      <td>1989</td>\n",
       "      <td>44175</td>\n",
       "      <td>NaN</td>\n",
       "    </tr>\n",
       "    <tr>\n",
       "      <th>2</th>\n",
       "      <td>2912565176</td>\n",
       "      <td>Fuzzy sets</td>\n",
       "      <td>{2252586558: 'Lotfi A. Zadeh'}</td>\n",
       "      <td>1996</td>\n",
       "      <td>42437</td>\n",
       "      <td>NaN</td>\n",
       "    </tr>\n",
       "    <tr>\n",
       "      <th>3</th>\n",
       "      <td>2151103935</td>\n",
       "      <td>Distinctive Image Features from Scale-Invarian...</td>\n",
       "      <td>{2104328312: 'David G. Lowe'}</td>\n",
       "      <td>2004</td>\n",
       "      <td>35541</td>\n",
       "      <td>[19720318, 1541642243, 1560959218, 1676552347,...</td>\n",
       "    </tr>\n",
       "    <tr>\n",
       "      <th>4</th>\n",
       "      <td>2911964244</td>\n",
       "      <td>Random Forests</td>\n",
       "      <td>{2569376642: 'Leo Breiman'}</td>\n",
       "      <td>2001</td>\n",
       "      <td>34741</td>\n",
       "      <td>[1507255258, 1580948147, 1605688901, 197584664...</td>\n",
       "    </tr>\n",
       "  </tbody>\n",
       "</table>\n",
       "</div>"
      ],
      "text/plain": [
       "           id                                              title  \\\n",
       "0  2041404167           The Mathematical Theory of Communication   \n",
       "1  1639032689  Genetic algorithms in search, optimization, an...   \n",
       "2  2912565176                                         Fuzzy sets   \n",
       "3  2151103935  Distinctive Image Features from Scale-Invarian...   \n",
       "4  2911964244                                     Random Forests   \n",
       "\n",
       "                             authors  year  n_citation  \\\n",
       "0      {2247248564: 'C. E. Shannon'}  1949       48327   \n",
       "1  {2102678951: 'David E. Goldberg'}  1989       44175   \n",
       "2     {2252586558: 'Lotfi A. Zadeh'}  1996       42437   \n",
       "3      {2104328312: 'David G. Lowe'}  2004       35541   \n",
       "4        {2569376642: 'Leo Breiman'}  2001       34741   \n",
       "\n",
       "                                          references  \n",
       "0                                                NaN  \n",
       "1                                                NaN  \n",
       "2                                                NaN  \n",
       "3  [19720318, 1541642243, 1560959218, 1676552347,...  \n",
       "4  [1507255258, 1580948147, 1605688901, 197584664...  "
      ]
     },
     "execution_count": 12,
     "metadata": {},
     "output_type": "execute_result"
    }
   ],
   "source": [
    "concatenated_df.head(5)\n",
    "concatenated_df.to_csv(r\"Top_10k_cleaned.csv\")"
   ]
  }
 ],
 "metadata": {
  "kernelspec": {
   "display_name": "base",
   "language": "python",
   "name": "python3"
  },
  "language_info": {
   "codemirror_mode": {
    "name": "ipython",
    "version": 3
   },
   "file_extension": ".py",
   "mimetype": "text/x-python",
   "name": "python",
   "nbconvert_exporter": "python",
   "pygments_lexer": "ipython3",
   "version": "3.10.9"
  }
 },
 "nbformat": 4,
 "nbformat_minor": 2
}
