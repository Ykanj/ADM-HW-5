{
 "cells": [
  {
   "cell_type": "markdown",
   "metadata": {},
   "source": [
    "## Homework 5 - The eternal significance of publications and citations!\n",
    "#### Group 18: Yousef Kanj (2113258), Simone Zagaria (2145389), Matteo Pazzini (1868953), Sai Swaroop Chittoor (1916247) "
   ]
  },
  {
   "cell_type": "markdown",
   "metadata": {},
   "source": [
    "_____"
   ]
  },
  {
   "cell_type": "code",
   "execution_count": 82,
   "metadata": {},
   "outputs": [],
   "source": [
    "import ijson\n",
    "import numpy as np\n",
    "from tqdm import tqdm\n",
    "import pandas as pd\n",
    "import os\n",
    "import re "
   ]
  },
  {
   "cell_type": "markdown",
   "metadata": {},
   "source": [
    "For each 150000 lines read from the JSON, we converted them to a pandas dataframe, sorted the dataframe for the top 10k by n_citations, dropped the rest of the entries, saved as a csv file and reset variables to clear memory. Between the 4.8 million entries processed, around 20 gave an error while reading them this was managed with a try except statement considering they're a negligible amount."
   ]
  },
  {
   "cell_type": "code",
   "execution_count": 2,
   "metadata": {},
   "outputs": [
    {
     "name": "stderr",
     "output_type": "stream",
     "text": [
      "4073824it [13:39, 8844.80it/s] "
     ]
    },
    {
     "name": "stdout",
     "output_type": "stream",
     "text": [
      "4072519 'authors'\n",
      "4073609 'authors'\n",
      "4074066 'authors'\n"
     ]
    },
    {
     "name": "stderr",
     "output_type": "stream",
     "text": [
      "4076447it [13:44, 735.06it/s] "
     ]
    },
    {
     "name": "stdout",
     "output_type": "stream",
     "text": [
      "4075098 'authors'\n",
      "4075506 'authors'\n",
      "4075960 'authors'\n",
      "4075982 'authors'\n",
      "4076003 'authors'\n",
      "4076007 'authors'\n",
      "4076545 'authors'\n",
      "4076556 'authors'\n"
     ]
    },
    {
     "name": "stderr",
     "output_type": "stream",
     "text": [
      "4079210it [13:44, 1883.76it/s]"
     ]
    },
    {
     "name": "stdout",
     "output_type": "stream",
     "text": [
      "4077547 'authors'\n",
      "4078600 'authors'\n",
      "4079011 'authors'\n"
     ]
    },
    {
     "name": "stderr",
     "output_type": "stream",
     "text": [
      "4081932it [13:45, 3893.05it/s]"
     ]
    },
    {
     "name": "stdout",
     "output_type": "stream",
     "text": [
      "4079482 'authors'\n",
      "4079499 'authors'\n"
     ]
    },
    {
     "name": "stderr",
     "output_type": "stream",
     "text": [
      "4083769it [13:45, 5522.83it/s]"
     ]
    },
    {
     "name": "stdout",
     "output_type": "stream",
     "text": [
      "4082186 'authors'\n",
      "4082218 'authors'\n"
     ]
    },
    {
     "name": "stderr",
     "output_type": "stream",
     "text": [
      "4894081it [16:11, 5035.43it/s] \n"
     ]
    },
    {
     "data": {
      "text/html": [
       "<div>\n",
       "<style scoped>\n",
       "    .dataframe tbody tr th:only-of-type {\n",
       "        vertical-align: middle;\n",
       "    }\n",
       "\n",
       "    .dataframe tbody tr th {\n",
       "        vertical-align: top;\n",
       "    }\n",
       "\n",
       "    .dataframe thead th {\n",
       "        text-align: right;\n",
       "    }\n",
       "</style>\n",
       "<table border=\"1\" class=\"dataframe\">\n",
       "  <thead>\n",
       "    <tr style=\"text-align: right;\">\n",
       "      <th></th>\n",
       "      <th>id</th>\n",
       "      <th>title</th>\n",
       "      <th>authors</th>\n",
       "      <th>year</th>\n",
       "      <th>n_citation</th>\n",
       "      <th>doc_type</th>\n",
       "      <th>references</th>\n",
       "      <th>doi</th>\n",
       "      <th>indexed_abstract</th>\n",
       "      <th>fos</th>\n",
       "      <th>venue</th>\n",
       "    </tr>\n",
       "  </thead>\n",
       "  <tbody>\n",
       "    <tr>\n",
       "      <th>0</th>\n",
       "      <td>2408392410</td>\n",
       "      <td>Uygulama yasam döngüsü yönetimi - Sistematik e...</td>\n",
       "      <td>[{'name': 'Ahsen Ikbal Aytekin', 'id': 2396272...</td>\n",
       "      <td>2015</td>\n",
       "      <td>1</td>\n",
       "      <td></td>\n",
       "      <td>[4214443, 1546685302, 1617130433, 2076648818, ...</td>\n",
       "      <td>https://doi.org/</td>\n",
       "      <td>{'IndexLength': 143, 'InvertedIndex': {'softwa...</td>\n",
       "      <td>[{'name': 'Application lifecycle management', ...</td>\n",
       "      <td>{'raw': 'CEUR Workshop Proceedings'}</td>\n",
       "    </tr>\n",
       "    <tr>\n",
       "      <th>1</th>\n",
       "      <td>2408410323</td>\n",
       "      <td>Tools for optical implementations of quantum c...</td>\n",
       "      <td>[{'name': 'Norbert Lütkenhaus', 'id': 26773946...</td>\n",
       "      <td>2010</td>\n",
       "      <td>0</td>\n",
       "      <td></td>\n",
       "      <td>NaN</td>\n",
       "      <td>https://doi.org/</td>\n",
       "      <td>NaN</td>\n",
       "      <td>[{'name': 'Quantum key distribution', 'w': 0.7...</td>\n",
       "      <td>{'raw': 'Quantum Cryptography and Computing'}</td>\n",
       "    </tr>\n",
       "    <tr>\n",
       "      <th>2</th>\n",
       "      <td>2408372179</td>\n",
       "      <td>Zero-Shot Learning and Clustering for Semantic...</td>\n",
       "      <td>[{'name': 'Yann N. Dauphin', 'id': 1973263502}...</td>\n",
       "      <td>2014</td>\n",
       "      <td>2</td>\n",
       "      <td>Conference</td>\n",
       "      <td>[22861983, 27961112, 1550863320, 1676280465, 1...</td>\n",
       "      <td>https://doi.org/</td>\n",
       "      <td>{'IndexLength': 121, 'InvertedIndex': {'embedd...</td>\n",
       "      <td>[{'name': 'Search engine', 'w': 0.41948}, {'na...</td>\n",
       "      <td>{'raw': 'International Conference on Learning ...</td>\n",
       "    </tr>\n",
       "    <tr>\n",
       "      <th>3</th>\n",
       "      <td>2408423405</td>\n",
       "      <td>Messung und Verwaltung von Softwarekomponenten...</td>\n",
       "      <td>[{'name': 'Marcus Bernd Meyerhöfer', 'id': 239...</td>\n",
       "      <td>2007</td>\n",
       "      <td>1</td>\n",
       "      <td></td>\n",
       "      <td>NaN</td>\n",
       "      <td>https://doi.org/</td>\n",
       "      <td>NaN</td>\n",
       "      <td>[{'name': 'Computer science', 'w': 0.34946}]</td>\n",
       "      <td>NaN</td>\n",
       "    </tr>\n",
       "    <tr>\n",
       "      <th>4</th>\n",
       "      <td>2408415844</td>\n",
       "      <td>Using Functional Linkage Gene Networks to Stud...</td>\n",
       "      <td>[{'name': 'Bolan Linghu', 'org': 'Novartis Ins...</td>\n",
       "      <td>2011</td>\n",
       "      <td>0</td>\n",
       "      <td></td>\n",
       "      <td>[1236321187, 2036991322, 2054653402, 205914790...</td>\n",
       "      <td>https://doi.org/10.4018/978-1-60960-491-2.ch012</td>\n",
       "      <td>NaN</td>\n",
       "      <td>[{'name': 'Biology', 'w': 0.36918}, {'name': '...</td>\n",
       "      <td>{'raw': 'Handbook of Research on Computational...</td>\n",
       "    </tr>\n",
       "    <tr>\n",
       "      <th>5</th>\n",
       "      <td>2408374886</td>\n",
       "      <td>Developing and Conducting a Security Test and ...</td>\n",
       "      <td>[{'name': 'Sean M. Price', 'id': 2705545470}]</td>\n",
       "      <td>2007</td>\n",
       "      <td>0</td>\n",
       "      <td></td>\n",
       "      <td>NaN</td>\n",
       "      <td>https://doi.org/</td>\n",
       "      <td>NaN</td>\n",
       "      <td>[{'name': 'Engineering management', 'w': 0.420...</td>\n",
       "      <td>{'raw': 'Information Security Management Handb...</td>\n",
       "    </tr>\n",
       "    <tr>\n",
       "      <th>6</th>\n",
       "      <td>2408431457</td>\n",
       "      <td>Un critère de rationnalité des langages algébr...</td>\n",
       "      <td>[{'name': 'Luc Boasson', 'id': 2780982039}]</td>\n",
       "      <td>1972</td>\n",
       "      <td>4</td>\n",
       "      <td>Conference</td>\n",
       "      <td>NaN</td>\n",
       "      <td>https://doi.org/</td>\n",
       "      <td>NaN</td>\n",
       "      <td>[{'name': 'Discrete mathematics', 'w': 0.39022...</td>\n",
       "      <td>{'raw': 'International Colloquium on Automata,...</td>\n",
       "    </tr>\n",
       "    <tr>\n",
       "      <th>7</th>\n",
       "      <td>2408374781</td>\n",
       "      <td>Automatische Modellierung gebundener Handschri...</td>\n",
       "      <td>[{'name': 'Marc-Peter Schambach', 'id': 267963...</td>\n",
       "      <td>2004</td>\n",
       "      <td>3</td>\n",
       "      <td></td>\n",
       "      <td>NaN</td>\n",
       "      <td>https://doi.org/10.18725/OPARU-310</td>\n",
       "      <td>NaN</td>\n",
       "      <td>[{'name': 'Computer science', 'w': 0.39578}, {...</td>\n",
       "      <td>NaN</td>\n",
       "    </tr>\n",
       "    <tr>\n",
       "      <th>8</th>\n",
       "      <td>2408395772</td>\n",
       "      <td>Wireless Sensor Network Pattern Based Fault Is...</td>\n",
       "      <td>[{'name': 'Luciana Moreira Sá de Souza', 'id':...</td>\n",
       "      <td>2009</td>\n",
       "      <td>1</td>\n",
       "      <td></td>\n",
       "      <td>NaN</td>\n",
       "      <td>https://doi.org/</td>\n",
       "      <td>NaN</td>\n",
       "      <td>[{'name': 'Key distribution in wireless sensor...</td>\n",
       "      <td>NaN</td>\n",
       "    </tr>\n",
       "    <tr>\n",
       "      <th>9</th>\n",
       "      <td>2408368894</td>\n",
       "      <td>Constitution d'une Base Bilingue de Marqueurs ...</td>\n",
       "      <td>[{'name': 'Luce Lefeuvre', 'org': 'Cognition, ...</td>\n",
       "      <td>2015</td>\n",
       "      <td>0</td>\n",
       "      <td></td>\n",
       "      <td>[2068737686]</td>\n",
       "      <td>https://doi.org/</td>\n",
       "      <td>{'IndexLength': 68, 'InvertedIndex': {'de': [2...</td>\n",
       "      <td>[{'name': 'French', 'w': 0.40867}, {'name': 'H...</td>\n",
       "      <td>{'raw': 'Terminology and Artificial Intelligen...</td>\n",
       "    </tr>\n",
       "  </tbody>\n",
       "</table>\n",
       "</div>"
      ],
      "text/plain": [
       "           id                                              title  \\\n",
       "0  2408392410  Uygulama yasam döngüsü yönetimi - Sistematik e...   \n",
       "1  2408410323  Tools for optical implementations of quantum c...   \n",
       "2  2408372179  Zero-Shot Learning and Clustering for Semantic...   \n",
       "3  2408423405  Messung und Verwaltung von Softwarekomponenten...   \n",
       "4  2408415844  Using Functional Linkage Gene Networks to Stud...   \n",
       "5  2408374886  Developing and Conducting a Security Test and ...   \n",
       "6  2408431457  Un critère de rationnalité des langages algébr...   \n",
       "7  2408374781  Automatische Modellierung gebundener Handschri...   \n",
       "8  2408395772  Wireless Sensor Network Pattern Based Fault Is...   \n",
       "9  2408368894  Constitution d'une Base Bilingue de Marqueurs ...   \n",
       "\n",
       "                                             authors  year  n_citation  \\\n",
       "0  [{'name': 'Ahsen Ikbal Aytekin', 'id': 2396272...  2015           1   \n",
       "1  [{'name': 'Norbert Lütkenhaus', 'id': 26773946...  2010           0   \n",
       "2  [{'name': 'Yann N. Dauphin', 'id': 1973263502}...  2014           2   \n",
       "3  [{'name': 'Marcus Bernd Meyerhöfer', 'id': 239...  2007           1   \n",
       "4  [{'name': 'Bolan Linghu', 'org': 'Novartis Ins...  2011           0   \n",
       "5      [{'name': 'Sean M. Price', 'id': 2705545470}]  2007           0   \n",
       "6        [{'name': 'Luc Boasson', 'id': 2780982039}]  1972           4   \n",
       "7  [{'name': 'Marc-Peter Schambach', 'id': 267963...  2004           3   \n",
       "8  [{'name': 'Luciana Moreira Sá de Souza', 'id':...  2009           1   \n",
       "9  [{'name': 'Luce Lefeuvre', 'org': 'Cognition, ...  2015           0   \n",
       "\n",
       "     doc_type                                         references  \\\n",
       "0              [4214443, 1546685302, 1617130433, 2076648818, ...   \n",
       "1                                                            NaN   \n",
       "2  Conference  [22861983, 27961112, 1550863320, 1676280465, 1...   \n",
       "3                                                            NaN   \n",
       "4              [1236321187, 2036991322, 2054653402, 205914790...   \n",
       "5                                                            NaN   \n",
       "6  Conference                                                NaN   \n",
       "7                                                            NaN   \n",
       "8                                                            NaN   \n",
       "9                                                   [2068737686]   \n",
       "\n",
       "                                               doi  \\\n",
       "0                                 https://doi.org/   \n",
       "1                                 https://doi.org/   \n",
       "2                                 https://doi.org/   \n",
       "3                                 https://doi.org/   \n",
       "4  https://doi.org/10.4018/978-1-60960-491-2.ch012   \n",
       "5                                 https://doi.org/   \n",
       "6                                 https://doi.org/   \n",
       "7               https://doi.org/10.18725/OPARU-310   \n",
       "8                                 https://doi.org/   \n",
       "9                                 https://doi.org/   \n",
       "\n",
       "                                    indexed_abstract  \\\n",
       "0  {'IndexLength': 143, 'InvertedIndex': {'softwa...   \n",
       "1                                                NaN   \n",
       "2  {'IndexLength': 121, 'InvertedIndex': {'embedd...   \n",
       "3                                                NaN   \n",
       "4                                                NaN   \n",
       "5                                                NaN   \n",
       "6                                                NaN   \n",
       "7                                                NaN   \n",
       "8                                                NaN   \n",
       "9  {'IndexLength': 68, 'InvertedIndex': {'de': [2...   \n",
       "\n",
       "                                                 fos  \\\n",
       "0  [{'name': 'Application lifecycle management', ...   \n",
       "1  [{'name': 'Quantum key distribution', 'w': 0.7...   \n",
       "2  [{'name': 'Search engine', 'w': 0.41948}, {'na...   \n",
       "3       [{'name': 'Computer science', 'w': 0.34946}]   \n",
       "4  [{'name': 'Biology', 'w': 0.36918}, {'name': '...   \n",
       "5  [{'name': 'Engineering management', 'w': 0.420...   \n",
       "6  [{'name': 'Discrete mathematics', 'w': 0.39022...   \n",
       "7  [{'name': 'Computer science', 'w': 0.39578}, {...   \n",
       "8  [{'name': 'Key distribution in wireless sensor...   \n",
       "9  [{'name': 'French', 'w': 0.40867}, {'name': 'H...   \n",
       "\n",
       "                                               venue  \n",
       "0               {'raw': 'CEUR Workshop Proceedings'}  \n",
       "1      {'raw': 'Quantum Cryptography and Computing'}  \n",
       "2  {'raw': 'International Conference on Learning ...  \n",
       "3                                                NaN  \n",
       "4  {'raw': 'Handbook of Research on Computational...  \n",
       "5  {'raw': 'Information Security Management Handb...  \n",
       "6  {'raw': 'International Colloquium on Automata,...  \n",
       "7                                                NaN  \n",
       "8                                                NaN  \n",
       "9  {'raw': 'Terminology and Artificial Intelligen...  "
      ]
     },
     "execution_count": 2,
     "metadata": {},
     "output_type": "execute_result"
    }
   ],
   "source": [
    "papers = []\n",
    "x=0\n",
    "with open('dblp.v12.json', \"rb\") as file: \n",
    "    for i, element in tqdm(enumerate(ijson.items(file, \"item\"))):\n",
    "        try:\n",
    "            paper = {}\n",
    "\n",
    "            paper['id'] = element['id']\n",
    "\n",
    "            paper['title'] = element['title']\n",
    "\n",
    "            paper['authors'] = element['authors']\n",
    "\n",
    "            paper['year'] = element.get('year', np.nan)\n",
    "\n",
    "            paper['n_citation'] = element.get('n_citation', 0) \n",
    "            \n",
    "            paper['doc_type'] = element.get('doc_type', np.nan)\n",
    "\n",
    "            paper['references'] = element.get('references', np.nan)\n",
    "\n",
    "            paper['doi'] = f\"https://doi.org/{element['doi']}\" if 'doi' in element else np.nan\n",
    "\n",
    "            paper['indexed_abstract'] = element.get('indexed_abstract', np.nan)\n",
    "\n",
    "            paper['fos'] = element.get('fos', np.nan)\n",
    "\n",
    "            paper['venue'] = element.get('venue', np.nan)\n",
    "\n",
    "            papers.append(paper)\n",
    "            \n",
    "        except Exception as error:\n",
    "            print(i, error)\n",
    "\n",
    "        if i % 150000 == 0 and i != 0:\n",
    "            x+=1\n",
    "            df = pd.DataFrame(papers)\n",
    "            df.sort_values(by=\"n_citation\", ascending= False)\n",
    "            df = df[:10000]\n",
    "            path = r\"DFs\\chunk \" + str(x)\n",
    "            df.to_csv(path)\n",
    "            papers = []\n",
    "\n",
    "path = r\"DFs\\chunk\"\n",
    "df = pd.DataFrame(papers)\n",
    "df.sort_values(by=\"n_citation\", ascending= False)\n",
    "df = df[:10000]\n",
    "df.to_csv(path)\n",
    "df.head(10)"
   ]
  },
  {
   "cell_type": "markdown",
   "metadata": {},
   "source": [
    "These 33 folders of the top 10k per chunk were then concatenated together, sorted again for the top 10k between all, and the rest was dropped. From there we needed to proceed with data cleaning and correcting the data types."
   ]
  },
  {
   "cell_type": "code",
   "execution_count": 68,
   "metadata": {},
   "outputs": [
    {
     "name": "stderr",
     "output_type": "stream",
     "text": [
      "100%|██████████| 33/33 [00:10<00:00,  3.29it/s]\n"
     ]
    },
    {
     "data": {
      "text/plain": [
       "(330000, 12)"
      ]
     },
     "execution_count": 68,
     "metadata": {},
     "output_type": "execute_result"
    }
   ],
   "source": [
    "folder_path = r'C:\\Users\\youse\\Desktop\\GitHub\\ADM-HW-5\\DFs' \n",
    "\n",
    "dataframes = []\n",
    "\n",
    "for i in tqdm(range(33)):  \n",
    "    file_name = f\"chunk {i}\" if i > 0 else \"chunk\"\n",
    "    file_path = os.path.join(folder_path, file_name)\n",
    "\n",
    "    df = pd.read_csv(file_path)\n",
    "    dataframes.append(df)\n",
    "\n",
    "concatenated_df = pd.concat(dataframes, ignore_index=True)\n",
    "concatenated_df.shape"
   ]
  },
  {
   "cell_type": "code",
   "execution_count": null,
   "metadata": {},
   "outputs": [],
   "source": [
    "def authors_to_dict(input_string): # This function converts the authors column to a clean dictionary with ID as key and name as value\n",
    "    pattern = r\"'name':\\s*'([^']+)'.*?'id':\\s*(\\d+)(?:,.*?|})\"\n",
    "    matches = re.findall(pattern, input_string)\n",
    "\n",
    "    result_dict = {int(id_): name for name, id_ in matches}\n",
    "\n",
    "    return result_dict\n",
    "\n",
    "concatenated_df = concatenated_df.sort_values(by=\"n_citation\", ascending= False, ignore_index= True)\n",
    "concatenated_df = concatenated_df[:10000]\n",
    "concatenated_df[\"authors\"] = concatenated_df[\"authors\"].apply(authors_to_dict)\n",
    "concatenated_df[\"references\"] = concatenated_df[\"references\"].apply(lambda x: list(map(int, x.strip(\"[]\").split(\", \"))) if type(x) != float else x)"
   ]
  },
  {
   "cell_type": "code",
   "execution_count": 143,
   "metadata": {},
   "outputs": [],
   "source": [
    "concatenated_df.head(5)\n",
    "concatenated_df.to_csv(r\"Top_10k_cleaned.csv\")"
   ]
  }
 ],
 "metadata": {
  "kernelspec": {
   "display_name": "base",
   "language": "python",
   "name": "python3"
  },
  "language_info": {
   "codemirror_mode": {
    "name": "ipython",
    "version": 3
   },
   "file_extension": ".py",
   "mimetype": "text/x-python",
   "name": "python",
   "nbconvert_exporter": "python",
   "pygments_lexer": "ipython3",
   "version": "3.10.9"
  }
 },
 "nbformat": 4,
 "nbformat_minor": 2
}
